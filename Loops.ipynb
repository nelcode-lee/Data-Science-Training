{
 "cells": [
  {
   "cell_type": "markdown",
   "id": "856e3a65-7611-49e5-8acf-53a80bd70e63",
   "metadata": {},
   "source": [
    "## For Loops"
   ]
  },
  {
   "cell_type": "code",
   "execution_count": 4,
   "id": "45625fb4-1981-4338-a0b3-c2bb0fc39887",
   "metadata": {},
   "outputs": [],
   "source": [
    "English_counties = [\n",
    "    'Bedfordshire',\n",
    "    'Berkshire',\n",
    "    'Bristol',\n",
    "    'Buckinghamshire',\n",
    "    'Cambridgeshire',\n",
    "    'Cheshire',\n",
    "    'City of London',\n",
    "    'Cornwall',\n",
    "    'Cumbria',\n",
    "    'Derbyshire',\n",
    "    'Devon',\n",
    "    'Dorset',\n",
    "    'County Durham',\n",
    "    'East Riding of Yorkshire',\n",
    "    'East Sussex',\n",
    "    'Essex',\n",
    "    'Gloucestershire',\n",
    "    'Greater London',\n",
    "    'Greater Manchester',\n",
    "    'Hampshire',\n",
    "    'Herefordshire',\n",
    "    'Hertfordshire',\n",
    "    'Isle of Wight',\n",
    "    'Kent',\n",
    "    'Lancashire',\n",
    "    'Leicestershire',\n",
    "    'Lincolnshire',\n",
    "    'Merseyside',\n",
    "    'Norfolk',\n",
    "    'North Yorkshire',\n",
    "    'Northamptonshire',\n",
    "    'Northumberland',\n",
    "    'Nottinghamshire',\n",
    "    'Oxfordshire',\n",
    "    'Rutland',\n",
    "    'Shropshire',\n",
    "    'Somerset',\n",
    "    'South Yorkshire',\n",
    "    'Staffordshire',\n",
    "    'Suffolk',\n",
    "    'Surrey',\n",
    "    'Tyne and Wear',\n",
    "    'Warwickshire',\n",
    "    'West Midlands',\n",
    "    'West Sussex',\n",
    "    'West Yorkshire',\n",
    "    'Wiltshire',\n",
    "    'Worcestershire'\n",
    "]"
   ]
  },
  {
   "cell_type": "code",
   "execution_count": 5,
   "id": "948db966-2010-4e4f-bb74-d3d959e3365f",
   "metadata": {},
   "outputs": [
    {
     "name": "stdout",
     "output_type": "stream",
     "text": [
      "Bedfordshire\n",
      "Berkshire\n",
      "Bristol\n",
      "Buckinghamshire\n",
      "Cambridgeshire\n",
      "Cheshire\n",
      "City of London\n",
      "Cornwall\n",
      "Cumbria\n",
      "Derbyshire\n",
      "Devon\n",
      "Dorset\n",
      "County Durham\n",
      "East Riding of Yorkshire\n",
      "East Sussex\n",
      "Essex\n",
      "Gloucestershire\n",
      "Greater London\n",
      "Greater Manchester\n",
      "Hampshire\n",
      "Herefordshire\n",
      "Hertfordshire\n",
      "Isle of Wight\n",
      "Kent\n",
      "Lancashire\n",
      "Leicestershire\n",
      "Lincolnshire\n",
      "Merseyside\n",
      "Norfolk\n",
      "North Yorkshire\n",
      "Northamptonshire\n",
      "Northumberland\n",
      "Nottinghamshire\n",
      "Oxfordshire\n",
      "Rutland\n",
      "Shropshire\n",
      "Somerset\n",
      "South Yorkshire\n",
      "Staffordshire\n",
      "Suffolk\n",
      "Surrey\n",
      "Tyne and Wear\n",
      "Warwickshire\n",
      "West Midlands\n",
      "West Sussex\n",
      "West Yorkshire\n",
      "Wiltshire\n",
      "Worcestershire\n"
     ]
    }
   ],
   "source": [
    "for county in English_counties:\n",
    "    print(county)"
   ]
  },
  {
   "cell_type": "code",
   "execution_count": 6,
   "id": "68d88165-2528-4381-ac05-daa253106aca",
   "metadata": {},
   "outputs": [],
   "source": [
    "integer = [1,2,3,4,5]\n"
   ]
  },
  {
   "cell_type": "code",
   "execution_count": 13,
   "id": "05f29660-9ecc-440f-92d8-53fd2c253818",
   "metadata": {},
   "outputs": [
    {
     "name": "stdout",
     "output_type": "stream",
     "text": [
      "1\n",
      "2\n",
      "3\n",
      "4\n",
      "5\n"
     ]
    }
   ],
   "source": [
    "for numbers in integer :\n",
    "    print (numbers)"
   ]
  },
  {
   "cell_type": "markdown",
   "id": "6e6882f5-f13c-4ce7-a64d-e695957228dd",
   "metadata": {},
   "source": [
    "## Count Odd / Even using for loop"
   ]
  },
  {
   "cell_type": "code",
   "execution_count": 25,
   "id": "fbba4fac-6139-4803-a9ea-8375926bed2d",
   "metadata": {},
   "outputs": [],
   "source": [
    "numbers = [1,2,3,4,5,6,7,8,9]"
   ]
  },
  {
   "cell_type": "code",
   "execution_count": 31,
   "id": "f44b5542-0d76-498b-9c27-fadac929c86c",
   "metadata": {},
   "outputs": [
    {
     "name": "stdout",
     "output_type": "stream",
     "text": [
      "the number of even numbers is: 4\n",
      "the number of odd numbers is: 5\n"
     ]
    }
   ],
   "source": [
    "count_even = 0\n",
    "count_odd = 0\n",
    "\n",
    "for x in numbers:\n",
    "    if x%2==0:\n",
    "        count_even += 1\n",
    "    else:\n",
    "        count_odd += 1\n",
    "\n",
    "print (f'the number of even numbers is: {count_even}')\n",
    "print (f'the number of odd numbers is: {count_odd}')\n",
    "    "
   ]
  },
  {
   "cell_type": "markdown",
   "id": "043a6029-4d62-443a-9f9e-cca9245be267",
   "metadata": {},
   "source": [
    "## For loop for selecting even numbers "
   ]
  },
  {
   "cell_type": "code",
   "execution_count": null,
   "id": "a40b61ee-8ae6-419c-8b14-0d3ed961fb03",
   "metadata": {},
   "outputs": [],
   "source": [
    "integers = [2,5,5,6]\n",
    "for number in integers:\n",
    "    if (number%2 == 0):\n",
    "        print (number)"
   ]
  },
  {
   "cell_type": "markdown",
   "id": "e65f500d-805d-42ec-80f5-aaea4d777960",
   "metadata": {},
   "source": [
    "## Factorial"
   ]
  },
  {
   "cell_type": "code",
   "execution_count": null,
   "id": "9a0fb619-3a5a-4f14-a2c4-ae774ad1e415",
   "metadata": {},
   "outputs": [],
   "source": [
    "number = 4\n",
    "fac = 1 \n",
    "\n",
    "if (number == 0):\n",
    "    print (1)\n",
    "else:\n",
    "    while number >= 1:\n",
    "        fac = fac * number\n",
    "        number -= 1\n",
    "print (fac)"
   ]
  },
  {
   "cell_type": "markdown",
   "id": "6a4a384c-a77c-46b0-b463-92d856e5d577",
   "metadata": {},
   "source": [
    "## While loop with same functionality of for loop"
   ]
  },
  {
   "cell_type": "code",
   "execution_count": null,
   "id": "78c53b51-e18a-44f7-9a78-becdbbba9aaf",
   "metadata": {},
   "outputs": [],
   "source": [
    "furniture = ['Desk','Chair', 'Table', 'Lamp', 'Couch']\n",
    "for item in furniture:\n",
    "    print (f'You will not be able to find a {item.upper()}  cheaper than our Items at the furniture store!')\n"
   ]
  },
  {
   "cell_type": "code",
   "execution_count": null,
   "id": "280b5ab4-65cf-4ccd-9737-d77c1a5c93f5",
   "metadata": {},
   "outputs": [],
   "source": [
    "i = 0\n",
    "while i < len (furniture):\n",
    "    print (f'You will not be able to find a {furniture[i].upper()}  cheaper than our Items at the furniture store!')\n",
    "    i +=1\n",
    "    \n"
   ]
  },
  {
   "cell_type": "markdown",
   "id": "0c1381c4-6c86-44fd-9884-dcf94aae8b53",
   "metadata": {},
   "source": [
    "## For loop with same functionality as while loop"
   ]
  },
  {
   "cell_type": "code",
   "execution_count": null,
   "id": "2295a217-3aee-45f6-b1a1-070dc9e1f763",
   "metadata": {},
   "outputs": [],
   "source": [
    "IntegerList = [1,2,3,4,5,6]\n",
    "i=0\n",
    "miltiplier_variable = 1\n",
    "\n",
    "while i < len (IntegerList):\n",
    "    miltiplier_variable = miltiplier_variable * IntegerList [i]\n",
    "    i+=1\n",
    "print (f'the product of alll the items in the list is {miltiplier_variable}')\n",
    "    \n"
   ]
  },
  {
   "cell_type": "code",
   "execution_count": null,
   "id": "006a4621-103f-4693-9745-d16858b2a5fa",
   "metadata": {},
   "outputs": [],
   "source": [
    "miltiplier_variable =1\n",
    "for i in IntegerList:\n",
    "    miltiplier_variable = miltiplier_variable * i\n",
    "    \n",
    "print (f'the product of alll the items in the list is {miltiplier_variable}')"
   ]
  },
  {
   "cell_type": "markdown",
   "id": "21e6ba34-6eea-4f35-8e49-e4d5f286a0b2",
   "metadata": {},
   "source": [
    "## Bridge Interview Question with conditional statements "
   ]
  },
  {
   "cell_type": "code",
   "execution_count": null,
   "id": "25f6938c-4e8e-427d-b8b9-5438aa21c919",
   "metadata": {},
   "outputs": [],
   "source": [
    "def build_bridge (small, large, goal):\n",
    "    if (large * 5) + small >= goal:\n",
    "        if small >= goal:\n",
    "            return True\n",
    "        elif large *5 >= goal - small and small >= goal%5:\n",
    "            return True\n",
    "        else:\n",
    "            return False\n",
    "    else:\n",
    "        return False\n",
    "print (build_bridge(3,1,6))\n",
    "print (build_bridge(53,1,58))\n",
    "print (build_bridge(0,10,45))\n",
    "print (build_bridge(7,5,65))       "
   ]
  },
  {
   "cell_type": "markdown",
   "id": "923b5431-7bf6-4136-be41-9a0e21524e91",
   "metadata": {},
   "source": [
    "## Swap 2 variables - Interview Question "
   ]
  },
  {
   "cell_type": "code",
   "execution_count": null,
   "id": "1716db8e-cc3f-4311-a61e-00e5f36c2420",
   "metadata": {},
   "outputs": [],
   "source": [
    "x = 5\n",
    "y = 10\n",
    "\n",
    "temp = x\n",
    "x=y\n",
    "y = temp\n",
    "\n",
    "print (x)"
   ]
  },
  {
   "cell_type": "code",
   "execution_count": null,
   "id": "216a3e44-2867-4451-88f9-445a59d3f3d5",
   "metadata": {},
   "outputs": [],
   "source": [
    "x = 5\n",
    "y = 10\n",
    "x,y = y,x\n",
    "print (x)"
   ]
  },
  {
   "cell_type": "markdown",
   "id": "ddb7535c-c047-4310-bb1e-99822f432dae",
   "metadata": {},
   "source": [
    "## Generate Random Numbers - Interview Questions"
   ]
  },
  {
   "cell_type": "code",
   "execution_count": null,
   "id": "d2c46f0d-e4d5-4709-a3a3-5d6500b38639",
   "metadata": {},
   "outputs": [],
   "source": [
    "import random\n",
    "num = random.random()\n",
    "print(num)"
   ]
  },
  {
   "cell_type": "code",
   "execution_count": null,
   "id": "a5d5ee84-ebee-458c-9884-723410d6c7f8",
   "metadata": {},
   "outputs": [],
   "source": [
    "num = random.uniform(1,100)\n",
    "print(num)"
   ]
  },
  {
   "cell_type": "code",
   "execution_count": null,
   "id": "bfd97fc9-f9a4-46a5-b85d-76d8538b5358",
   "metadata": {},
   "outputs": [],
   "source": [
    "#Integers\n",
    "num = random.randint(1,100)\n",
    "print(num)"
   ]
  },
  {
   "cell_type": "code",
   "execution_count": null,
   "id": "db5d1203-9369-448f-b6e6-c687320362cc",
   "metadata": {},
   "outputs": [],
   "source": [
    "## Even Numbers\n",
    "num = random.randrange (0,100,2)\n",
    "print(num)"
   ]
  },
  {
   "cell_type": "code",
   "execution_count": null,
   "id": "619803cb-fa0b-4239-aad2-14b613bded65",
   "metadata": {},
   "outputs": [],
   "source": [
    "# random list\n",
    "numbers = random.sample(range(0,100),3)\n",
    "print(numbers)"
   ]
  },
  {
   "cell_type": "markdown",
   "id": "18e442d7-f53f-4a1e-9eb9-c1975aa7f3e0",
   "metadata": {},
   "source": [
    "## Fibonacci Sequence interview question "
   ]
  },
  {
   "cell_type": "code",
   "execution_count": 1,
   "id": "46708e11-5406-484e-8e5a-4c9c24eeb0e5",
   "metadata": {},
   "outputs": [
    {
     "name": "stdin",
     "output_type": "stream",
     "text": [
      "Enter a number:  22\n"
     ]
    },
    {
     "name": "stdout",
     "output_type": "stream",
     "text": [
      "0\n",
      "1\n",
      "1\n",
      "2\n",
      "3\n",
      "5\n",
      "8\n",
      "13\n",
      "21\n",
      "34\n",
      "55\n",
      "89\n",
      "144\n",
      "233\n",
      "377\n",
      "610\n",
      "987\n",
      "1597\n",
      "2584\n",
      "4181\n",
      "6765\n",
      "10946\n"
     ]
    }
   ],
   "source": [
    "def print_fibonacci (num):\n",
    "    a, b = 0,1\n",
    "    if num < 1:\n",
    "        print ('null')\n",
    "    elif num == 1:\n",
    "        print (a)\n",
    "    elif num ==2:\n",
    "        print(a)\n",
    "        print (b)\n",
    "    elif num >2:\n",
    "        print (a)\n",
    "        print (b)\n",
    "        for i in range (num-2):\n",
    "            c = a+ b \n",
    "            a, b = b,c\n",
    "            print (c)\n",
    "\n",
    "print_fibonacci(int(input('Enter a number: ')))\n",
    "            \n",
    "    "
   ]
  },
  {
   "cell_type": "code",
   "execution_count": null,
   "id": "ee0e5f13-d6df-45db-824c-15549d22dda7",
   "metadata": {},
   "outputs": [],
   "source": []
  }
 ],
 "metadata": {
  "kernelspec": {
   "display_name": "Python 3 (ipykernel)",
   "language": "python",
   "name": "python3"
  },
  "language_info": {
   "codemirror_mode": {
    "name": "ipython",
    "version": 3
   },
   "file_extension": ".py",
   "mimetype": "text/x-python",
   "name": "python",
   "nbconvert_exporter": "python",
   "pygments_lexer": "ipython3",
   "version": "3.11.6"
  }
 },
 "nbformat": 4,
 "nbformat_minor": 5
}
