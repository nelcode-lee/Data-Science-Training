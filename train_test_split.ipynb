{
 "cells": [
  {
   "cell_type": "markdown",
   "id": "e293e335-9354-4873-816a-22174d083f4d",
   "metadata": {},
   "source": [
    "# Train Test Split "
   ]
  },
  {
   "cell_type": "markdown",
   "id": "98216bc0-3af3-449d-8f75-aab8b1a0d6b4",
   "metadata": {},
   "source": [
    "### Why do we split our data? - We train the model on the training data but need to ensure that the model learns well enough to be accurate when given new samples"
   ]
  },
  {
   "cell_type": "markdown",
   "id": "a4d18083-5063-43ee-871f-1c363162f6c5",
   "metadata": {},
   "source": [
    "## Import LIbraries "
   ]
  },
  {
   "cell_type": "code",
   "execution_count": 57,
   "id": "9da21f1b-f124-4c75-932e-b2aa81b07eaf",
   "metadata": {},
   "outputs": [],
   "source": [
    "import numpy as np\n",
    "from sklearn.model_selection import train_test_split"
   ]
  },
  {
   "cell_type": "markdown",
   "id": "4db85799-37c1-4549-9fc8-c33ceed91b77",
   "metadata": {},
   "source": [
    "## Create Data"
   ]
  },
  {
   "cell_type": "code",
   "execution_count": 58,
   "id": "7539b3b3-9df3-430b-b21d-ecdd3a04302d",
   "metadata": {},
   "outputs": [
    {
     "data": {
      "text/plain": [
       "array([  1,   2,   3,   4,   5,   6,   7,   8,   9,  10,  11,  12,  13,\n",
       "        14,  15,  16,  17,  18,  19,  20,  21,  22,  23,  24,  25,  26,\n",
       "        27,  28,  29,  30,  31,  32,  33,  34,  35,  36,  37,  38,  39,\n",
       "        40,  41,  42,  43,  44,  45,  46,  47,  48,  49,  50,  51,  52,\n",
       "        53,  54,  55,  56,  57,  58,  59,  60,  61,  62,  63,  64,  65,\n",
       "        66,  67,  68,  69,  70,  71,  72,  73,  74,  75,  76,  77,  78,\n",
       "        79,  80,  81,  82,  83,  84,  85,  86,  87,  88,  89,  90,  91,\n",
       "        92,  93,  94,  95,  96,  97,  98,  99, 100])"
      ]
     },
     "execution_count": 58,
     "metadata": {},
     "output_type": "execute_result"
    }
   ],
   "source": [
    "a =np.arange(1,101)\n",
    "a"
   ]
  },
  {
   "cell_type": "code",
   "execution_count": 59,
   "id": "8eab4049-8204-4e88-b2a8-590f937feaf4",
   "metadata": {},
   "outputs": [
    {
     "data": {
      "text/plain": [
       "array([501, 502, 503, 504, 505, 506, 507, 508, 509, 510, 511, 512, 513,\n",
       "       514, 515, 516, 517, 518, 519, 520, 521, 522, 523, 524, 525, 526,\n",
       "       527, 528, 529, 530, 531, 532, 533, 534, 535, 536, 537, 538, 539,\n",
       "       540, 541, 542, 543, 544, 545, 546, 547, 548, 549, 550, 551, 552,\n",
       "       553, 554, 555, 556, 557, 558, 559, 560, 561, 562, 563, 564, 565,\n",
       "       566, 567, 568, 569, 570, 571, 572, 573, 574, 575, 576, 577, 578,\n",
       "       579, 580, 581, 582, 583, 584, 585, 586, 587, 588, 589, 590, 591,\n",
       "       592, 593, 594, 595, 596, 597, 598, 599, 600])"
      ]
     },
     "execution_count": 59,
     "metadata": {},
     "output_type": "execute_result"
    }
   ],
   "source": [
    "b =np.arange(501,601)\n",
    "b"
   ]
  },
  {
   "cell_type": "markdown",
   "id": "fc84fd81-b8b6-4baa-8d8c-7ff64c471f80",
   "metadata": {},
   "source": [
    "## Split the data"
   ]
  },
  {
   "cell_type": "code",
   "execution_count": 60,
   "id": "238b0d26-4bea-4495-b3fa-162b96fdeb6b",
   "metadata": {},
   "outputs": [
    {
     "data": {
      "text/plain": [
       "[array([ 60,  53,  40,  42,  96,  44,  49,  92,  25,  18,  91,  22,  58,\n",
       "          1,   6,  61,  94,  36,  79,  27,  34,  84,  54,  62, 100,  26,\n",
       "         55,   4,  85,  14,  82,  47,  81,  10,  35,  86,  15,  76,  23,\n",
       "         77,  21,  67,  80,  90,  33,  31,  50,   8,  74,  98,  75,  63,\n",
       "         52,   5,   7,  43,  46,  28,  45,  78,  97,  73,  95,  32,  66,\n",
       "         72,  29,  24,  64,  48,  19,  38,  39,  68,  20]),\n",
       " array([17, 59, 99, 30, 89, 71, 69, 83, 13,  2, 57, 12, 65, 41, 11,  9, 37,\n",
       "        56, 93, 70,  3, 87, 88, 51, 16])]"
      ]
     },
     "execution_count": 60,
     "metadata": {},
     "output_type": "execute_result"
    }
   ],
   "source": [
    "train_test_split(a)"
   ]
  },
  {
   "cell_type": "code",
   "execution_count": 61,
   "id": "9bc2b1df-7367-44fa-afda-a13ca973dfab",
   "metadata": {},
   "outputs": [],
   "source": [
    "a_train, a_test, b_train, b_test= train_test_split(a,b, test_size = 0.2, random_state= 365)"
   ]
  },
  {
   "cell_type": "markdown",
   "id": "428c82fb-b2b2-4688-bb57-589dfaa2fded",
   "metadata": {},
   "source": [
    "### Random_state stop shuffle so we can finely tweak data"
   ]
  },
  {
   "cell_type": "code",
   "execution_count": 62,
   "id": "777a7d12-78c1-42c8-b992-c6e84b352c6b",
   "metadata": {},
   "outputs": [
    {
     "data": {
      "text/plain": [
       "((80,), (20,))"
      ]
     },
     "execution_count": 62,
     "metadata": {},
     "output_type": "execute_result"
    }
   ],
   "source": [
    "a_train.shape, a_test.shape"
   ]
  },
  {
   "cell_type": "code",
   "execution_count": 63,
   "id": "08ff350d-d4bf-422d-9293-87cf351862e9",
   "metadata": {},
   "outputs": [
    {
     "data": {
      "text/plain": [
       "array([ 25,  32,  99,  73,  91,  66,   3,  59,  94,   1,   8,  15,  90,\n",
       "        54,  31,  20,  77,  82,  30,  35,  95,  42,  38,   7,  11,  50,\n",
       "        21,  48,   2,  17,  10,  58,  68,  43,  41,  16,  88,  72,  79,\n",
       "       100,  80,  39,  24,  86,  22,  23,  62,  76,  18,  47,  55,  26,\n",
       "        60,  19,  71,  64,  51,  63,  65,  28,  12,  78,  13,  44,  75,\n",
       "        87,  40,   4,  29,  49,  37,  57,  27,  74,   6,  45,  92,  34,\n",
       "        53,  83])"
      ]
     },
     "execution_count": 63,
     "metadata": {},
     "output_type": "execute_result"
    }
   ],
   "source": [
    "a_train"
   ]
  },
  {
   "cell_type": "code",
   "execution_count": 64,
   "id": "cca30153-25b7-4f73-8a09-7fe51e5f09f1",
   "metadata": {},
   "outputs": [
    {
     "data": {
      "text/plain": [
       "array([ 9, 69, 81, 56, 33, 93, 84, 61, 46, 89, 85, 67, 97,  5, 70, 36, 98,\n",
       "       96, 14, 52])"
      ]
     },
     "execution_count": 64,
     "metadata": {},
     "output_type": "execute_result"
    }
   ],
   "source": [
    "a_test"
   ]
  },
  {
   "cell_type": "markdown",
   "id": "5e7ebdc1-baa3-4d2b-b96c-6021507bd7a0",
   "metadata": {},
   "source": [
    "### Note - Data is shuffled  (Shuffle= False for time series)"
   ]
  },
  {
   "cell_type": "code",
   "execution_count": 65,
   "id": "ccb3306b-d0ef-44da-a9e1-bbc68015046a",
   "metadata": {},
   "outputs": [
    {
     "data": {
      "text/plain": [
       "((80,), (20,))"
      ]
     },
     "execution_count": 65,
     "metadata": {},
     "output_type": "execute_result"
    }
   ],
   "source": [
    "b_train.shape, b_test.shape"
   ]
  },
  {
   "cell_type": "code",
   "execution_count": 66,
   "id": "fa0712dd-2d28-47d7-b615-4ef450d2e96e",
   "metadata": {},
   "outputs": [
    {
     "data": {
      "text/plain": [
       "array([525, 532, 599, 573, 591, 566, 503, 559, 594, 501, 508, 515, 590,\n",
       "       554, 531, 520, 577, 582, 530, 535, 595, 542, 538, 507, 511, 550,\n",
       "       521, 548, 502, 517, 510, 558, 568, 543, 541, 516, 588, 572, 579,\n",
       "       600, 580, 539, 524, 586, 522, 523, 562, 576, 518, 547, 555, 526,\n",
       "       560, 519, 571, 564, 551, 563, 565, 528, 512, 578, 513, 544, 575,\n",
       "       587, 540, 504, 529, 549, 537, 557, 527, 574, 506, 545, 592, 534,\n",
       "       553, 583])"
      ]
     },
     "execution_count": 66,
     "metadata": {},
     "output_type": "execute_result"
    }
   ],
   "source": [
    "b_train"
   ]
  },
  {
   "cell_type": "code",
   "execution_count": 67,
   "id": "58597490-b246-4e52-85a9-0b6c958ed84a",
   "metadata": {},
   "outputs": [
    {
     "data": {
      "text/plain": [
       "array([509, 569, 581, 556, 533, 593, 584, 561, 546, 589, 585, 567, 597,\n",
       "       505, 570, 536, 598, 596, 514, 552])"
      ]
     },
     "execution_count": 67,
     "metadata": {},
     "output_type": "execute_result"
    }
   ],
   "source": [
    "b_test"
   ]
  },
  {
   "cell_type": "code",
   "execution_count": null,
   "id": "a3f79fde-c2fb-4ed2-9eba-3f7f2c6c6c3b",
   "metadata": {},
   "outputs": [],
   "source": []
  }
 ],
 "metadata": {
  "kernelspec": {
   "display_name": "Python 3 (ipykernel)",
   "language": "python",
   "name": "python3"
  },
  "language_info": {
   "codemirror_mode": {
    "name": "ipython",
    "version": 3
   },
   "file_extension": ".py",
   "mimetype": "text/x-python",
   "name": "python",
   "nbconvert_exporter": "python",
   "pygments_lexer": "ipython3",
   "version": "3.11.5"
  }
 },
 "nbformat": 4,
 "nbformat_minor": 5
}
